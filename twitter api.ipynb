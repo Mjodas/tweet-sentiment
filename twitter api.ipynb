{
 "cells": [
  {
   "cell_type": "code",
   "execution_count": 1,
   "metadata": {},
   "outputs": [
    {
     "name": "stdout",
     "output_type": "stream",
     "text": [
      "Collecting searchtweets\n",
      "  Downloading searchtweets-1.7.6-py3-none-any.whl (29 kB)\n",
      "Collecting tweet-parser\n",
      "  Downloading tweet_parser-1.13.2-py3-none-any.whl (34 kB)\n",
      "Requirement already satisfied: pyyaml in /Users/Mjods/opt/anaconda3/lib/python3.8/site-packages (from searchtweets) (5.3.1)\n",
      "Requirement already satisfied: requests in /Users/Mjods/opt/anaconda3/lib/python3.8/site-packages (from searchtweets) (2.24.0)\n",
      "Requirement already satisfied: chardet<4,>=3.0.2 in /Users/Mjods/opt/anaconda3/lib/python3.8/site-packages (from requests->searchtweets) (3.0.4)\n",
      "Requirement already satisfied: idna<3,>=2.5 in /Users/Mjods/opt/anaconda3/lib/python3.8/site-packages (from requests->searchtweets) (2.10)\n",
      "Requirement already satisfied: certifi>=2017.4.17 in /Users/Mjods/opt/anaconda3/lib/python3.8/site-packages (from requests->searchtweets) (2020.6.20)\n",
      "Requirement already satisfied: urllib3!=1.25.0,!=1.25.1,<1.26,>=1.21.1 in /Users/Mjods/opt/anaconda3/lib/python3.8/site-packages (from requests->searchtweets) (1.25.9)\n",
      "Installing collected packages: tweet-parser, searchtweets\n",
      "Successfully installed searchtweets-1.7.6 tweet-parser-1.13.2\n"
     ]
    }
   ],
   "source": [
    "!pip install searchtweets"
   ]
  },
  {
   "cell_type": "code",
   "execution_count": 2,
   "metadata": {},
   "outputs": [],
   "source": [
    "from searchtweets import ResultStream, gen_rule_payload, load_credentials"
   ]
  },
  {
   "cell_type": "code",
   "execution_count": 4,
   "metadata": {},
   "outputs": [],
   "source": [
    "premium_search_args = load_credentials(\"keys.yaml\",\n",
    "                                       yaml_key=\"search_tweets_premium\",\n",
    "                                       env_overwrite=False)"
   ]
  },
  {
   "cell_type": "code",
   "execution_count": 37,
   "metadata": {},
   "outputs": [
    {
     "name": "stdout",
     "output_type": "stream",
     "text": [
      "{\"query\":\"covid19\",\"maxResults\":100}\n"
     ]
    }
   ],
   "source": [
    "rule = gen_rule_payload(\"covid19\", results_per_call=100) # testing with a sandbox account\n",
    "print(rule)"
   ]
  },
  {
   "cell_type": "code",
   "execution_count": 38,
   "metadata": {},
   "outputs": [],
   "source": [
    "from searchtweets import collect_results"
   ]
  },
  {
   "cell_type": "code",
   "execution_count": 44,
   "metadata": {
    "scrolled": true
   },
   "outputs": [
    {
     "name": "stderr",
     "output_type": "stream",
     "text": [
      "HTTP Error code: 429: {\"error\":{\"message\":\"Exceeded rate limit\",\"sent\":\"2020-10-06T08:37:34+00:00\",\"transactionId\":\"00275f750029ffab\"}}\n",
      "Request payload: {'query': 'covid19', 'maxResults': 100, 'next': 'eyJtYXhJZCI6MTMxMzM5NTY0NjMxMzkyMjU2MH0='}\n",
      "Rate limit hit... Will retry...\n",
      "Will retry in 4 seconds...\n",
      "HTTP Error code: 429: {\"error\":{\"message\":\"Exceeded rate limit\",\"sent\":\"2020-10-06T08:37:38+00:00\",\"transactionId\":\"009ff17c003cce8a\"}}\n",
      "Request payload: {'query': 'covid19', 'maxResults': 100, 'next': 'eyJtYXhJZCI6MTMxMzM5NTY0NjMxMzkyMjU2MH0='}\n",
      "Rate limit hit... Will retry...\n",
      "Will retry in 16 seconds...\n"
     ]
    },
    {
     "ename": "KeyboardInterrupt",
     "evalue": "",
     "output_type": "error",
     "traceback": [
      "\u001b[0;31m---------------------------------------------------------------------------\u001b[0m",
      "\u001b[0;31mKeyboardInterrupt\u001b[0m                         Traceback (most recent call last)",
      "\u001b[0;32m<ipython-input-44-7f2c16ed1223>\u001b[0m in \u001b[0;36m<module>\u001b[0;34m\u001b[0m\n\u001b[0;32m----> 1\u001b[0;31m tweets = collect_results(rule,\n\u001b[0m\u001b[1;32m      2\u001b[0m                          \u001b[0mmax_results\u001b[0m\u001b[0;34m=\u001b[0m\u001b[0;36m100000\u001b[0m\u001b[0;34m,\u001b[0m\u001b[0;34m\u001b[0m\u001b[0;34m\u001b[0m\u001b[0m\n\u001b[1;32m      3\u001b[0m                          result_stream_args=premium_search_args) # change this if you need to\n",
      "\u001b[0;32m~/opt/anaconda3/lib/python3.8/site-packages/searchtweets/result_stream.py\u001b[0m in \u001b[0;36mcollect_results\u001b[0;34m(rule, max_results, result_stream_args)\u001b[0m\n\u001b[1;32m    320\u001b[0m                       \u001b[0mmax_results\u001b[0m\u001b[0;34m=\u001b[0m\u001b[0mmax_results\u001b[0m\u001b[0;34m,\u001b[0m\u001b[0;34m\u001b[0m\u001b[0;34m\u001b[0m\u001b[0m\n\u001b[1;32m    321\u001b[0m                       **result_stream_args)\n\u001b[0;32m--> 322\u001b[0;31m     \u001b[0;32mreturn\u001b[0m \u001b[0mlist\u001b[0m\u001b[0;34m(\u001b[0m\u001b[0mrs\u001b[0m\u001b[0;34m.\u001b[0m\u001b[0mstream\u001b[0m\u001b[0;34m(\u001b[0m\u001b[0;34m)\u001b[0m\u001b[0;34m)\u001b[0m\u001b[0;34m\u001b[0m\u001b[0;34m\u001b[0m\u001b[0m\n\u001b[0m",
      "\u001b[0;32m~/opt/anaconda3/lib/python3.8/site-packages/searchtweets/result_stream.py\u001b[0m in \u001b[0;36mstream\u001b[0;34m(self)\u001b[0m\n\u001b[1;32m    234\u001b[0m                 logger.info(\"paging; total requests read so far: {}\"\n\u001b[1;32m    235\u001b[0m                             .format(self.n_requests))\n\u001b[0;32m--> 236\u001b[0;31m                 \u001b[0mself\u001b[0m\u001b[0;34m.\u001b[0m\u001b[0mexecute_request\u001b[0m\u001b[0;34m(\u001b[0m\u001b[0;34m)\u001b[0m\u001b[0;34m\u001b[0m\u001b[0;34m\u001b[0m\u001b[0m\n\u001b[0m\u001b[1;32m    237\u001b[0m             \u001b[0;32melse\u001b[0m\u001b[0;34m:\u001b[0m\u001b[0;34m\u001b[0m\u001b[0;34m\u001b[0m\u001b[0m\n\u001b[1;32m    238\u001b[0m                 \u001b[0;32mbreak\u001b[0m\u001b[0;34m\u001b[0m\u001b[0;34m\u001b[0m\u001b[0m\n",
      "\u001b[0;32m~/opt/anaconda3/lib/python3.8/site-packages/searchtweets/result_stream.py\u001b[0m in \u001b[0;36mexecute_request\u001b[0;34m(self)\u001b[0m\n\u001b[1;32m    270\u001b[0m             \u001b[0mself\u001b[0m\u001b[0;34m.\u001b[0m\u001b[0minit_session\u001b[0m\u001b[0;34m(\u001b[0m\u001b[0;34m)\u001b[0m\u001b[0;34m\u001b[0m\u001b[0;34m\u001b[0m\u001b[0m\n\u001b[1;32m    271\u001b[0m \u001b[0;34m\u001b[0m\u001b[0m\n\u001b[0;32m--> 272\u001b[0;31m         resp = request(session=self.session,\n\u001b[0m\u001b[1;32m    273\u001b[0m                        \u001b[0murl\u001b[0m\u001b[0;34m=\u001b[0m\u001b[0mself\u001b[0m\u001b[0;34m.\u001b[0m\u001b[0mendpoint\u001b[0m\u001b[0;34m,\u001b[0m\u001b[0;34m\u001b[0m\u001b[0;34m\u001b[0m\u001b[0m\n\u001b[1;32m    274\u001b[0m                        rule_payload=self.rule_payload)\n",
      "\u001b[0;32m~/opt/anaconda3/lib/python3.8/site-packages/searchtweets/result_stream.py\u001b[0m in \u001b[0;36mretried_func\u001b[0;34m(*args, **kwargs)\u001b[0m\n\u001b[1;32m    113\u001b[0m                 \u001b[0mlogger\u001b[0m\u001b[0;34m.\u001b[0m\u001b[0mwarning\u001b[0m\u001b[0;34m(\u001b[0m\u001b[0;34mf\"Will retry in {sleep_seconds} seconds...\"\u001b[0m\u001b[0;34m)\u001b[0m\u001b[0;34m\u001b[0m\u001b[0;34m\u001b[0m\u001b[0m\n\u001b[1;32m    114\u001b[0m                 \u001b[0;31m#print(f\"Will retry in {sleep_seconds} seconds...\")\u001b[0m\u001b[0;34m\u001b[0m\u001b[0;34m\u001b[0m\u001b[0;34m\u001b[0m\u001b[0m\n\u001b[0;32m--> 115\u001b[0;31m                 \u001b[0mtime\u001b[0m\u001b[0;34m.\u001b[0m\u001b[0msleep\u001b[0m\u001b[0;34m(\u001b[0m\u001b[0msleep_seconds\u001b[0m\u001b[0;34m)\u001b[0m\u001b[0;34m\u001b[0m\u001b[0;34m\u001b[0m\u001b[0m\n\u001b[0m\u001b[1;32m    116\u001b[0m                 \u001b[0;32mcontinue\u001b[0m\u001b[0;34m\u001b[0m\u001b[0;34m\u001b[0m\u001b[0m\n\u001b[1;32m    117\u001b[0m \u001b[0;34m\u001b[0m\u001b[0m\n",
      "\u001b[0;31mKeyboardInterrupt\u001b[0m: "
     ]
    }
   ],
   "source": [
    "tweets = collect_results(rule,\n",
    "                         max_results=100000,\n",
    "                         result_stream_args=premium_search_args) # change this if you need to"
   ]
  },
  {
   "cell_type": "code",
   "execution_count": null,
   "metadata": {},
   "outputs": [],
   "source": []
  },
  {
   "cell_type": "code",
   "execution_count": 43,
   "metadata": {},
   "outputs": [
    {
     "data": {
      "text/plain": [
       "500"
      ]
     },
     "execution_count": 43,
     "metadata": {},
     "output_type": "execute_result"
    }
   ],
   "source": [
    "len(tweets)"
   ]
  },
  {
   "cell_type": "code",
   "execution_count": 42,
   "metadata": {},
   "outputs": [
    {
     "name": "stdout",
     "output_type": "stream",
     "text": [
      "Ini adalah contoh rakyat yang bertanggungjawab bukan mcm orang tu tak reti kuarantin diri &amp; menyusahkan orang. Ada gelang pink pun ke sana ke mari.\n",
      "\n",
      "#PKPP\n",
      "#COVID19 https://t.co/jftPXB6nvn\n",
      "\n",
      "Ouverture des travaux du Comité d'Evaluation du #feicomcameroon ce 06 octobre 2020 sous le thème : Mise en oeuvre des activités du FEICOM dans un contexte marqué par la crise sanitaire de la COVID19 et la perspective de la fin du 3e cycle de budgétisation par programme 2019-2021 https://t.co/tpMFgmVYod\n",
      "\n",
      "“Swiss cheese model” for #COVID19 prevention - no layer alone is sufficient, but ALL layers together will limit leaks through the holes!🧀😋 https://t.co/622tmHtKa7\n",
      "\n",
      "#rathonegreenbank support @LGIM, @AXAIM &amp; @ATMIndex call for global #pharma collaboration in response to #Covid19. As investors, we have a vested interest in understanding &amp; managing systemic risks of pandemic preparedness &amp; drug resistant infections. #ESG https://t.co/usuj0E6qla https://t.co/F0y9AHbHDk\n",
      "\n",
      "Wellness quarantine facilities to be offered to long-stay foreign tourists https://t.co/QkWMTfuOoE #thailand #coronavirus #covid19 https://t.co/8YFCrIAepX\n",
      "\n",
      "Claudia Conway daughter of Trump advisor Kellyanne Conway, reports Trump is not doing \"better\" with #COVID19 despite recent Trump photo-ops and return to the White House. \n",
      "\n",
      "Adding reports that she is #COVID19 positive thanks to her mom exposing her to it and lying about it. https://t.co/Q1ExoT3hMO\n",
      "\n",
      "Mentally I'm in a country in which public health is actually prioritised\n",
      "#COVID19 #level3 https://t.co/xcOc6w3Ahs\n",
      "\n",
      "❗️ Quarantines are disruptive &amp; should be replaced by comprehensive testing. The latest @EUCouncil proposal on #COVID19 coordination deletes the call for tests to be the preferred option. Together w/@WTTC, we urge EU Ministers to reiterate this approach ▶️ https://t.co/EbnCAJbxZq https://t.co/HL3vL3OoJo\n",
      "\n",
      "3) Furthermore, we need to contract tract much faster too! Because infectiousness can start days before symptoms—thus anyone could be already transmitting if we test and trace to slowly! #COVID19 https://t.co/xpYIkpq5Do\n",
      "\n",
      "‼️@Amazon, acusada de inflar los precios de productos básicos en plena pandemia de #COVID19\n",
      "📌 Aprovecho la crisis del #coronavirus para cobrar hasta un 1.000% mas por algunos de sus articulos\n",
      "@JeffBezos\n",
      "@EFEnoticias @europapress @Reuters @CNBC @guardian\n",
      "https://t.co/6L3sV8VnsA\n",
      "\n"
     ]
    },
    {
     "data": {
      "text/plain": [
       "[None, None, None, None, None, None, None, None, None, None]"
      ]
     },
     "execution_count": 42,
     "metadata": {},
     "output_type": "execute_result"
    }
   ],
   "source": [
    "[print(tweet.all_text, end='\\n\\n') for tweet in tweets[0:10]]"
   ]
  },
  {
   "cell_type": "code",
   "execution_count": null,
   "metadata": {},
   "outputs": [],
   "source": []
  },
  {
   "cell_type": "code",
   "execution_count": null,
   "metadata": {},
   "outputs": [],
   "source": []
  },
  {
   "cell_type": "code",
   "execution_count": null,
   "metadata": {},
   "outputs": [],
   "source": []
  }
 ],
 "metadata": {
  "kernelspec": {
   "display_name": "Python 3",
   "language": "python",
   "name": "python3"
  },
  "language_info": {
   "codemirror_mode": {
    "name": "ipython",
    "version": 3
   },
   "file_extension": ".py",
   "mimetype": "text/x-python",
   "name": "python",
   "nbconvert_exporter": "python",
   "pygments_lexer": "ipython3",
   "version": "3.8.3"
  }
 },
 "nbformat": 4,
 "nbformat_minor": 4
}
